{
 "cells": [
  {
   "cell_type": "code",
   "execution_count": 86,
   "metadata": {},
   "outputs": [
    {
     "name": "stdout",
     "output_type": "stream",
     "text": [
      "0\n",
      "6\n",
      "12\n",
      "18\n"
     ]
    }
   ],
   "source": [
    "for i in range(20):\n",
    "    if i%6==0:\n",
    "        print(i)\n"
   ]
  },
  {
   "cell_type": "code",
   "execution_count": 34,
   "metadata": {},
   "outputs": [
    {
     "name": "stdout",
     "output_type": "stream",
     "text": [
      "[]\n"
     ]
    }
   ],
   "source": [
    "lista = [\"a\", 1, 2, 3]\n",
    "lista.clear()\n",
    "print(lista)"
   ]
  },
  {
   "cell_type": "code",
   "execution_count": 43,
   "metadata": {},
   "outputs": [
    {
     "data": {
      "text/plain": [
       "['lechuga']"
      ]
     },
     "execution_count": 43,
     "metadata": {},
     "output_type": "execute_result"
    }
   ],
   "source": [
    "productos = []\n",
    "producto = input(\"lechuga\")\n",
    "productos.append(producto)\n",
    "productos"
   ]
  },
  {
   "cell_type": "code",
   "execution_count": 48,
   "metadata": {},
   "outputs": [
    {
     "name": "stdout",
     "output_type": "stream",
     "text": [
      "4\n",
      "4\n"
     ]
    },
    {
     "data": {
      "text/plain": [
       "(1, 3, 2, 4, 5, 3, 4, 5, 5, 5, 6, 6, 6, 7, 5, 3, 4, 3, 2)"
      ]
     },
     "execution_count": 48,
     "metadata": {},
     "output_type": "execute_result"
    }
   ],
   "source": [
    "tupla = (1,3,2,4,5,3,4,5,5,5,6,6,6,7,5,3,4,3,2)\n",
    "#count\n",
    "print(tupla.count(3))\n",
    "print(tupla.index(5))\n",
    "tupla\n"
   ]
  },
  {
   "cell_type": "code",
   "execution_count": 73,
   "metadata": {},
   "outputs": [
    {
     "name": "stdout",
     "output_type": "stream",
     "text": [
      "tu edad no puede ser 0\n"
     ]
    }
   ],
   "source": [
    "edad=0\n",
    "if edad>=18:\n",
    "    print(\"mayor de edad\")\n",
    "elif edad<18:\n",
    "    print(\"tu edad no puede ser 0\")\n",
    "else:\n",
    "    print(\"menor de edad\")"
   ]
  },
  {
   "cell_type": "code",
   "execution_count": 56,
   "metadata": {},
   "outputs": [
    {
     "data": {
      "text/plain": [
       "{}"
      ]
     },
     "execution_count": 56,
     "metadata": {},
     "output_type": "execute_result"
    }
   ],
   "source": [
    "diccionario = {\"gato\": \"cat\", \"perro\": \"dog\"}\n",
    "diccionario.get(\"gato\")\n",
    "diccionario.values()\n",
    "diccionario.items()\n",
    "diccionario.pop(\"perro\")\n",
    "diccionario\n",
    "diccionario.clear()\n",
    "diccionario"
   ]
  },
  {
   "cell_type": "code",
   "execution_count": 63,
   "metadata": {},
   "outputs": [
    {
     "data": {
      "text/plain": [
       "{'nombre': ['juanito', 'jaimito', 'jaime'], 'codigo': ['2', '3', '4']}"
      ]
     },
     "execution_count": 63,
     "metadata": {},
     "output_type": "execute_result"
    }
   ],
   "source": [
    "clientes = {\"nombre\": [\"juanito\", \"jaimito\"], \"codigo\": [\"2\", \"3\"]}\n",
    "clientes [\"codigo\"].append(\"4\")\n",
    "clientes [\"nombre\"].append(\"jaime\")\n",
    "clientes"
   ]
  }
 ],
 "metadata": {
  "kernelspec": {
   "display_name": "Python 3.9.12 ('base')",
   "language": "python",
   "name": "python3"
  },
  "language_info": {
   "codemirror_mode": {
    "name": "ipython",
    "version": 3
   },
   "file_extension": ".py",
   "mimetype": "text/x-python",
   "name": "python",
   "nbconvert_exporter": "python",
   "pygments_lexer": "ipython3",
   "version": "3.9.12"
  },
  "orig_nbformat": 4,
  "vscode": {
   "interpreter": {
    "hash": "ad2bdc8ecc057115af97d19610ffacc2b4e99fae6737bb82f5d7fb13d2f2c186"
   }
  }
 },
 "nbformat": 4,
 "nbformat_minor": 2
}
