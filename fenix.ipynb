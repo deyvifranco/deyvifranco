{
 "cells": [
  {
   "cell_type": "code",
   "execution_count": 28,
   "metadata": {},
   "outputs": [
    {
     "name": "stdout",
     "output_type": "stream",
     "text": [
      "hello world\n",
      "hello, world\n"
     ]
    },
    {
     "data": {
      "text/plain": [
       "float"
      ]
     },
     "execution_count": 28,
     "metadata": {},
     "output_type": "execute_result"
    }
   ],
   "source": [
    "# sistema #\n",
    "\"\"\"iniciarmedioterminar\"\"\"\n",
    "print(\"hello\", \"world\")\n",
    "print(\"hello, world\")\n",
    "soleado=433455.5677\n",
    "type(soleado)\n"
   ]
  },
  {
   "cell_type": "code",
   "execution_count": 34,
   "metadata": {},
   "outputs": [
    {
     "name": "stdout",
     "output_type": "stream",
     "text": [
      "bienvenidos al curso de matematicas del primer ciclo\n"
     ]
    }
   ],
   "source": [
    "# presentacion #\n",
    "\"\"\"iniciarpresentacion\"\"\"\n",
    "curso = \"matematicas\"\n",
    "ciclo = \"primer ciclo\"\n",
    "print(\"bienvenidos al curso de\", curso, \"del\", ciclo)"
   ]
  },
  {
   "cell_type": "markdown",
   "metadata": {},
   "source": [
    "# universo #\n",
    "## luna ##\n",
    "### sol ###\n",
    " - tierraghhjhk\n",
    "   - jkuioiu\n",
    "     - fggghhgjhghjh\n",
    "       - ghjhjjkjkk\n",
    "         - <b>especialidad<b>\n",
    "          - [link red](https://www.google.com/search?q=internet&rlz=1C1ONGR_esPE1020PE1021&oq=internet&aqs=chrome..69i57j0i433i512j0i131i433i512l2j0i433i512j0i512j0i131i433i512l2j46i131i199i433i465i512j0i131i433i512.4863j0j7&sourceid=chrome&ie=UTF-8)\n",
    "            - ![imagen photo](https://concepto.de/wp-content/uploads/2018/09/redes-informaticas-e1537289477478.jpg)\n",
    "              - \n",
    "\n"
   ]
  }
 ],
 "metadata": {
  "kernelspec": {
   "display_name": "Python 3.9.12 ('base')",
   "language": "python",
   "name": "python3"
  },
  "language_info": {
   "codemirror_mode": {
    "name": "ipython",
    "version": 3
   },
   "file_extension": ".py",
   "mimetype": "text/x-python",
   "name": "python",
   "nbconvert_exporter": "python",
   "pygments_lexer": "ipython3",
   "version": "3.9.12"
  },
  "orig_nbformat": 4,
  "vscode": {
   "interpreter": {
    "hash": "ad2bdc8ecc057115af97d19610ffacc2b4e99fae6737bb82f5d7fb13d2f2c186"
   }
  }
 },
 "nbformat": 4,
 "nbformat_minor": 2
}
